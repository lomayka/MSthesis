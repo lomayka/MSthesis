{
 "cells": [
  {
   "cell_type": "code",
   "execution_count": 1,
   "id": "87b02b91-da26-4357-b8aa-0804d8e024a2",
   "metadata": {},
   "outputs": [
    {
     "name": "stdout",
     "output_type": "stream",
     "text": [
      "#LS 631 days #VS 50 days # TEST 50 days\n",
      "#LS 631 days #VS 50 days # TEST 50 days\n",
      "#LS 631 days #VS 50 days # TEST 50 days\n",
      "#LS 631 days #VS 50 days # TEST 50 days\n",
      "#LS 631 days #VS 50 days # TEST 50 days\n",
      "#LS 631 days #VS 50 days # TEST 50 days\n",
      "#LS 631 days #VS 50 days # TEST 50 days\n",
      "#LS 631 days #VS 50 days # TEST 50 days\n",
      "#LS 631 days #VS 50 days # TEST 50 days\n",
      "#LS 631 days #VS 50 days # TEST 50 days\n",
      "2012-07-15 01:00:00\n"
     ]
    },
    {
     "data": {
      "text/html": [
       "<div>\n",
       "<style scoped>\n",
       "    .dataframe tbody tr th:only-of-type {\n",
       "        vertical-align: middle;\n",
       "    }\n",
       "\n",
       "    .dataframe tbody tr th {\n",
       "        vertical-align: top;\n",
       "    }\n",
       "\n",
       "    .dataframe thead th {\n",
       "        text-align: right;\n",
       "    }\n",
       "</style>\n",
       "<table border=\"1\" class=\"dataframe\">\n",
       "  <thead>\n",
       "    <tr style=\"text-align: right;\">\n",
       "      <th></th>\n",
       "      <th>TIMESTAMP</th>\n",
       "      <th>TARGETVAR</th>\n",
       "      <th>U10</th>\n",
       "      <th>V10</th>\n",
       "      <th>U100</th>\n",
       "      <th>V100</th>\n",
       "      <th>ZONE_1</th>\n",
       "      <th>ZONE_2</th>\n",
       "      <th>ZONE_3</th>\n",
       "      <th>ZONE_4</th>\n",
       "      <th>ZONE_5</th>\n",
       "      <th>ZONE_6</th>\n",
       "      <th>ZONE_7</th>\n",
       "      <th>ZONE_8</th>\n",
       "      <th>ZONE_9</th>\n",
       "      <th>ZONE_10</th>\n",
       "      <th>new_date</th>\n",
       "    </tr>\n",
       "  </thead>\n",
       "  <tbody>\n",
       "    <tr>\n",
       "      <th>0</th>\n",
       "      <td>2012-01-01 01:00:00</td>\n",
       "      <td>0.000000</td>\n",
       "      <td>2.124600</td>\n",
       "      <td>-2.681966</td>\n",
       "      <td>2.864280</td>\n",
       "      <td>-3.666076</td>\n",
       "      <td>1</td>\n",
       "      <td>0</td>\n",
       "      <td>0</td>\n",
       "      <td>0</td>\n",
       "      <td>0</td>\n",
       "      <td>0</td>\n",
       "      <td>0</td>\n",
       "      <td>0</td>\n",
       "      <td>0</td>\n",
       "      <td>0</td>\n",
       "      <td>2012-01-01</td>\n",
       "    </tr>\n",
       "    <tr>\n",
       "      <th>1</th>\n",
       "      <td>2012-01-01 02:00:00</td>\n",
       "      <td>0.054879</td>\n",
       "      <td>2.521695</td>\n",
       "      <td>-1.796960</td>\n",
       "      <td>3.344859</td>\n",
       "      <td>-2.464761</td>\n",
       "      <td>1</td>\n",
       "      <td>0</td>\n",
       "      <td>0</td>\n",
       "      <td>0</td>\n",
       "      <td>0</td>\n",
       "      <td>0</td>\n",
       "      <td>0</td>\n",
       "      <td>0</td>\n",
       "      <td>0</td>\n",
       "      <td>0</td>\n",
       "      <td>2012-01-01</td>\n",
       "    </tr>\n",
       "    <tr>\n",
       "      <th>2</th>\n",
       "      <td>2012-01-01 03:00:00</td>\n",
       "      <td>0.110234</td>\n",
       "      <td>2.672210</td>\n",
       "      <td>-0.822516</td>\n",
       "      <td>3.508448</td>\n",
       "      <td>-1.214093</td>\n",
       "      <td>1</td>\n",
       "      <td>0</td>\n",
       "      <td>0</td>\n",
       "      <td>0</td>\n",
       "      <td>0</td>\n",
       "      <td>0</td>\n",
       "      <td>0</td>\n",
       "      <td>0</td>\n",
       "      <td>0</td>\n",
       "      <td>0</td>\n",
       "      <td>2012-01-01</td>\n",
       "    </tr>\n",
       "    <tr>\n",
       "      <th>3</th>\n",
       "      <td>2012-01-01 04:00:00</td>\n",
       "      <td>0.165116</td>\n",
       "      <td>2.457504</td>\n",
       "      <td>-0.143642</td>\n",
       "      <td>3.215233</td>\n",
       "      <td>-0.355546</td>\n",
       "      <td>1</td>\n",
       "      <td>0</td>\n",
       "      <td>0</td>\n",
       "      <td>0</td>\n",
       "      <td>0</td>\n",
       "      <td>0</td>\n",
       "      <td>0</td>\n",
       "      <td>0</td>\n",
       "      <td>0</td>\n",
       "      <td>0</td>\n",
       "      <td>2012-01-01</td>\n",
       "    </tr>\n",
       "    <tr>\n",
       "      <th>4</th>\n",
       "      <td>2012-01-01 05:00:00</td>\n",
       "      <td>0.156940</td>\n",
       "      <td>2.245898</td>\n",
       "      <td>0.389576</td>\n",
       "      <td>2.957678</td>\n",
       "      <td>0.332701</td>\n",
       "      <td>1</td>\n",
       "      <td>0</td>\n",
       "      <td>0</td>\n",
       "      <td>0</td>\n",
       "      <td>0</td>\n",
       "      <td>0</td>\n",
       "      <td>0</td>\n",
       "      <td>0</td>\n",
       "      <td>0</td>\n",
       "      <td>0</td>\n",
       "      <td>2012-01-01</td>\n",
       "    </tr>\n",
       "    <tr>\n",
       "      <th>...</th>\n",
       "      <td>...</td>\n",
       "      <td>...</td>\n",
       "      <td>...</td>\n",
       "      <td>...</td>\n",
       "      <td>...</td>\n",
       "      <td>...</td>\n",
       "      <td>...</td>\n",
       "      <td>...</td>\n",
       "      <td>...</td>\n",
       "      <td>...</td>\n",
       "      <td>...</td>\n",
       "      <td>...</td>\n",
       "      <td>...</td>\n",
       "      <td>...</td>\n",
       "      <td>...</td>\n",
       "      <td>...</td>\n",
       "      <td>...</td>\n",
       "    </tr>\n",
       "    <tr>\n",
       "      <th>175435</th>\n",
       "      <td>2013-12-31 20:00:00</td>\n",
       "      <td>0.792143</td>\n",
       "      <td>1.032363</td>\n",
       "      <td>-6.281558</td>\n",
       "      <td>2.041033</td>\n",
       "      <td>-11.220655</td>\n",
       "      <td>0</td>\n",
       "      <td>0</td>\n",
       "      <td>0</td>\n",
       "      <td>0</td>\n",
       "      <td>0</td>\n",
       "      <td>0</td>\n",
       "      <td>0</td>\n",
       "      <td>0</td>\n",
       "      <td>0</td>\n",
       "      <td>1</td>\n",
       "      <td>2013-12-31</td>\n",
       "    </tr>\n",
       "    <tr>\n",
       "      <th>175436</th>\n",
       "      <td>2013-12-31 21:00:00</td>\n",
       "      <td>0.792143</td>\n",
       "      <td>1.702361</td>\n",
       "      <td>-6.202448</td>\n",
       "      <td>2.846245</td>\n",
       "      <td>-10.486079</td>\n",
       "      <td>0</td>\n",
       "      <td>0</td>\n",
       "      <td>0</td>\n",
       "      <td>0</td>\n",
       "      <td>0</td>\n",
       "      <td>0</td>\n",
       "      <td>0</td>\n",
       "      <td>0</td>\n",
       "      <td>0</td>\n",
       "      <td>1</td>\n",
       "      <td>2013-12-31</td>\n",
       "    </tr>\n",
       "    <tr>\n",
       "      <th>175437</th>\n",
       "      <td>2013-12-31 22:00:00</td>\n",
       "      <td>0.792143</td>\n",
       "      <td>5.086629</td>\n",
       "      <td>-1.261378</td>\n",
       "      <td>7.382256</td>\n",
       "      <td>-3.097656</td>\n",
       "      <td>0</td>\n",
       "      <td>0</td>\n",
       "      <td>0</td>\n",
       "      <td>0</td>\n",
       "      <td>0</td>\n",
       "      <td>0</td>\n",
       "      <td>0</td>\n",
       "      <td>0</td>\n",
       "      <td>0</td>\n",
       "      <td>1</td>\n",
       "      <td>2013-12-31</td>\n",
       "    </tr>\n",
       "    <tr>\n",
       "      <th>175438</th>\n",
       "      <td>2013-12-31 23:00:00</td>\n",
       "      <td>0.792143</td>\n",
       "      <td>4.183751</td>\n",
       "      <td>-1.580172</td>\n",
       "      <td>5.789054</td>\n",
       "      <td>-2.116548</td>\n",
       "      <td>0</td>\n",
       "      <td>0</td>\n",
       "      <td>0</td>\n",
       "      <td>0</td>\n",
       "      <td>0</td>\n",
       "      <td>0</td>\n",
       "      <td>0</td>\n",
       "      <td>0</td>\n",
       "      <td>0</td>\n",
       "      <td>1</td>\n",
       "      <td>2013-12-31</td>\n",
       "    </tr>\n",
       "    <tr>\n",
       "      <th>175439</th>\n",
       "      <td>2014-01-01 00:00:00</td>\n",
       "      <td>0.792143</td>\n",
       "      <td>2.903382</td>\n",
       "      <td>-2.663695</td>\n",
       "      <td>4.041454</td>\n",
       "      <td>-3.471531</td>\n",
       "      <td>0</td>\n",
       "      <td>0</td>\n",
       "      <td>0</td>\n",
       "      <td>0</td>\n",
       "      <td>0</td>\n",
       "      <td>0</td>\n",
       "      <td>0</td>\n",
       "      <td>0</td>\n",
       "      <td>0</td>\n",
       "      <td>1</td>\n",
       "      <td>2014-01-01</td>\n",
       "    </tr>\n",
       "  </tbody>\n",
       "</table>\n",
       "<p>175440 rows × 17 columns</p>\n",
       "</div>"
      ],
      "text/plain": [
       "                 TIMESTAMP  TARGETVAR       U10       V10      U100  \\\n",
       "0      2012-01-01 01:00:00   0.000000  2.124600 -2.681966  2.864280   \n",
       "1      2012-01-01 02:00:00   0.054879  2.521695 -1.796960  3.344859   \n",
       "2      2012-01-01 03:00:00   0.110234  2.672210 -0.822516  3.508448   \n",
       "3      2012-01-01 04:00:00   0.165116  2.457504 -0.143642  3.215233   \n",
       "4      2012-01-01 05:00:00   0.156940  2.245898  0.389576  2.957678   \n",
       "...                    ...        ...       ...       ...       ...   \n",
       "175435 2013-12-31 20:00:00   0.792143  1.032363 -6.281558  2.041033   \n",
       "175436 2013-12-31 21:00:00   0.792143  1.702361 -6.202448  2.846245   \n",
       "175437 2013-12-31 22:00:00   0.792143  5.086629 -1.261378  7.382256   \n",
       "175438 2013-12-31 23:00:00   0.792143  4.183751 -1.580172  5.789054   \n",
       "175439 2014-01-01 00:00:00   0.792143  2.903382 -2.663695  4.041454   \n",
       "\n",
       "             V100  ZONE_1  ZONE_2  ZONE_3  ZONE_4  ZONE_5  ZONE_6  ZONE_7  \\\n",
       "0       -3.666076       1       0       0       0       0       0       0   \n",
       "1       -2.464761       1       0       0       0       0       0       0   \n",
       "2       -1.214093       1       0       0       0       0       0       0   \n",
       "3       -0.355546       1       0       0       0       0       0       0   \n",
       "4        0.332701       1       0       0       0       0       0       0   \n",
       "...           ...     ...     ...     ...     ...     ...     ...     ...   \n",
       "175435 -11.220655       0       0       0       0       0       0       0   \n",
       "175436 -10.486079       0       0       0       0       0       0       0   \n",
       "175437  -3.097656       0       0       0       0       0       0       0   \n",
       "175438  -2.116548       0       0       0       0       0       0       0   \n",
       "175439  -3.471531       0       0       0       0       0       0       0   \n",
       "\n",
       "        ZONE_8  ZONE_9  ZONE_10    new_date  \n",
       "0            0       0        0  2012-01-01  \n",
       "1            0       0        0  2012-01-01  \n",
       "2            0       0        0  2012-01-01  \n",
       "3            0       0        0  2012-01-01  \n",
       "4            0       0        0  2012-01-01  \n",
       "...        ...     ...      ...         ...  \n",
       "175435       0       0        1  2013-12-31  \n",
       "175436       0       0        1  2013-12-31  \n",
       "175437       0       0        1  2013-12-31  \n",
       "175438       0       0        1  2013-12-31  \n",
       "175439       0       0        1  2014-01-01  \n",
       "\n",
       "[175440 rows x 17 columns]"
      ]
     },
     "execution_count": 1,
     "metadata": {},
     "output_type": "execute_result"
    }
   ],
   "source": [
    "import pandas as pd\n",
    "import numpy as np\n",
    "from loaders import wind_data\n",
    "TEST_SIZE = 50\n",
    "\n",
    "wind_GEF = wind_data(path_name='data/wind_data_all_zone.csv', test_size=TEST_SIZE, random_state=0)\n",
    "wind_df = pd.read_csv('data/wind_data_all_zone.csv')\n",
    "print(wind_GEF[5].index[0])\n",
    "wind_df['TIMESTAMP'] =  pd.to_datetime(wind_df['TIMESTAMP'], format='%Y-%m-%d %H:%M:%S.%f')\n",
    "wind_df['new_date'] = [d.date() for d in wind_df['TIMESTAMP']]\n",
    "wind_df"
   ]
  },
  {
   "cell_type": "code",
   "execution_count": 2,
   "id": "1eb7f117-d280-489b-baf0-60bde1a8e241",
   "metadata": {},
   "outputs": [],
   "source": [
    "dates = []\n",
    "for d in wind_GEF[5].index:\n",
    "    dates.append(d.date())\n",
    "dates = pd.Series(dates)\n",
    "dates.unique()\n",
    "train = wind_df[~wind_df['new_date'].isin(dates.unique())].copy()\n",
    "test = wind_df[wind_df['new_date'].isin(dates.unique())].copy()\n",
    "x_train = train[['U10', 'V10', 'U100', 'V100', 'ZONE_1', 'ZONE_2', 'ZONE_3','ZONE_4','ZONE_5','ZONE_6','ZONE_7','ZONE_8','ZONE_9','ZONE_10']]\n",
    "x_test = test[['U10', 'V10', 'U100', 'V100', 'ZONE_1', 'ZONE_2', 'ZONE_3','ZONE_4','ZONE_5','ZONE_6','ZONE_7','ZONE_8','ZONE_9','ZONE_10']]\n",
    "y_train = train['TARGETVAR']\n",
    "y_test = test['TARGETVAR']"
   ]
  },
  {
   "cell_type": "code",
   "execution_count": 4,
   "id": "f43f4580-8776-4780-9ca7-c226e4b113bd",
   "metadata": {},
   "outputs": [],
   "source": [
    "from xgboost.sklearn import XGBRegressor"
   ]
  },
  {
   "cell_type": "code",
   "execution_count": 5,
   "id": "13852102-4276-4909-97b2-be80f8e4f71b",
   "metadata": {
    "tags": []
   },
   "outputs": [
    {
     "ename": "XGBoostError",
     "evalue": "[20:17:05] d:\\bld\\xgboost-split_1637426510059\\work\\src\\common\\common.h:157: XGBoost version not compiled with GPU support.",
     "output_type": "error",
     "traceback": [
      "\u001b[1;31m---------------------------------------------------------------------------\u001b[0m",
      "\u001b[1;31mXGBoostError\u001b[0m                              Traceback (most recent call last)",
      "\u001b[1;32m~\\AppData\\Local\\Temp/ipykernel_15428/4073680978.py\u001b[0m in \u001b[0;36m<module>\u001b[1;34m\u001b[0m\n\u001b[0;32m     18\u001b[0m \u001b[1;32mfor\u001b[0m \u001b[0malpha\u001b[0m \u001b[1;32min\u001b[0m \u001b[0mquantiles\u001b[0m\u001b[1;33m:\u001b[0m\u001b[1;33m\u001b[0m\u001b[1;33m\u001b[0m\u001b[0m\n\u001b[0;32m     19\u001b[0m     \u001b[0mgbr\u001b[0m \u001b[1;33m=\u001b[0m \u001b[0mXGBRegressor\u001b[0m\u001b[1;33m(\u001b[0m\u001b[0mloss\u001b[0m\u001b[1;33m=\u001b[0m\u001b[1;34m\"quantile\"\u001b[0m\u001b[1;33m,\u001b[0m \u001b[0malpha\u001b[0m\u001b[1;33m=\u001b[0m\u001b[0malpha\u001b[0m\u001b[1;33m,\u001b[0m \u001b[0mtree_method\u001b[0m \u001b[1;33m=\u001b[0m \u001b[1;34m\"gpu_hist\"\u001b[0m\u001b[1;33m,\u001b[0m \u001b[1;33m**\u001b[0m\u001b[0mcommon_params\u001b[0m\u001b[1;33m)\u001b[0m\u001b[1;33m\u001b[0m\u001b[1;33m\u001b[0m\u001b[0m\n\u001b[1;32m---> 20\u001b[1;33m     \u001b[0mall_models\u001b[0m\u001b[1;33m[\u001b[0m\u001b[1;34m\"q %1.2f\"\u001b[0m \u001b[1;33m%\u001b[0m \u001b[0malpha\u001b[0m\u001b[1;33m]\u001b[0m \u001b[1;33m=\u001b[0m \u001b[0mgbr\u001b[0m\u001b[1;33m.\u001b[0m\u001b[0mfit\u001b[0m\u001b[1;33m(\u001b[0m\u001b[0mx_train\u001b[0m\u001b[1;33m,\u001b[0m \u001b[0my_train\u001b[0m\u001b[1;33m)\u001b[0m\u001b[1;33m\u001b[0m\u001b[1;33m\u001b[0m\u001b[0m\n\u001b[0m\u001b[0;32m     21\u001b[0m     \u001b[0my_pred\u001b[0m \u001b[1;33m=\u001b[0m \u001b[0mgbr\u001b[0m\u001b[1;33m.\u001b[0m\u001b[0mpredict\u001b[0m\u001b[1;33m(\u001b[0m\u001b[0mx_test\u001b[0m\u001b[1;33m)\u001b[0m\u001b[1;33m\u001b[0m\u001b[1;33m\u001b[0m\u001b[0m\n\u001b[0;32m     22\u001b[0m \u001b[1;33m\u001b[0m\u001b[0m\n",
      "\u001b[1;32m~\\miniconda3\\lib\\site-packages\\xgboost\\core.py\u001b[0m in \u001b[0;36minner_f\u001b[1;34m(*args, **kwargs)\u001b[0m\n\u001b[0;32m    504\u001b[0m         \u001b[1;32mfor\u001b[0m \u001b[0mk\u001b[0m\u001b[1;33m,\u001b[0m \u001b[0marg\u001b[0m \u001b[1;32min\u001b[0m \u001b[0mzip\u001b[0m\u001b[1;33m(\u001b[0m\u001b[0msig\u001b[0m\u001b[1;33m.\u001b[0m\u001b[0mparameters\u001b[0m\u001b[1;33m,\u001b[0m \u001b[0margs\u001b[0m\u001b[1;33m)\u001b[0m\u001b[1;33m:\u001b[0m\u001b[1;33m\u001b[0m\u001b[1;33m\u001b[0m\u001b[0m\n\u001b[0;32m    505\u001b[0m             \u001b[0mkwargs\u001b[0m\u001b[1;33m[\u001b[0m\u001b[0mk\u001b[0m\u001b[1;33m]\u001b[0m \u001b[1;33m=\u001b[0m \u001b[0marg\u001b[0m\u001b[1;33m\u001b[0m\u001b[1;33m\u001b[0m\u001b[0m\n\u001b[1;32m--> 506\u001b[1;33m         \u001b[1;32mreturn\u001b[0m \u001b[0mf\u001b[0m\u001b[1;33m(\u001b[0m\u001b[1;33m**\u001b[0m\u001b[0mkwargs\u001b[0m\u001b[1;33m)\u001b[0m\u001b[1;33m\u001b[0m\u001b[1;33m\u001b[0m\u001b[0m\n\u001b[0m\u001b[0;32m    507\u001b[0m \u001b[1;33m\u001b[0m\u001b[0m\n\u001b[0;32m    508\u001b[0m     \u001b[1;32mreturn\u001b[0m \u001b[0minner_f\u001b[0m\u001b[1;33m\u001b[0m\u001b[1;33m\u001b[0m\u001b[0m\n",
      "\u001b[1;32m~\\miniconda3\\lib\\site-packages\\xgboost\\sklearn.py\u001b[0m in \u001b[0;36mfit\u001b[1;34m(self, X, y, sample_weight, base_margin, eval_set, eval_metric, early_stopping_rounds, verbose, xgb_model, sample_weight_eval_set, base_margin_eval_set, feature_weights, callbacks)\u001b[0m\n\u001b[0;32m    787\u001b[0m \u001b[1;33m\u001b[0m\u001b[0m\n\u001b[0;32m    788\u001b[0m         \u001b[0mmodel\u001b[0m\u001b[1;33m,\u001b[0m \u001b[0mfeval\u001b[0m\u001b[1;33m,\u001b[0m \u001b[0mparams\u001b[0m \u001b[1;33m=\u001b[0m \u001b[0mself\u001b[0m\u001b[1;33m.\u001b[0m\u001b[0m_configure_fit\u001b[0m\u001b[1;33m(\u001b[0m\u001b[0mxgb_model\u001b[0m\u001b[1;33m,\u001b[0m \u001b[0meval_metric\u001b[0m\u001b[1;33m,\u001b[0m \u001b[0mparams\u001b[0m\u001b[1;33m)\u001b[0m\u001b[1;33m\u001b[0m\u001b[1;33m\u001b[0m\u001b[0m\n\u001b[1;32m--> 789\u001b[1;33m         self._Booster = train(\n\u001b[0m\u001b[0;32m    790\u001b[0m             \u001b[0mparams\u001b[0m\u001b[1;33m,\u001b[0m\u001b[1;33m\u001b[0m\u001b[1;33m\u001b[0m\u001b[0m\n\u001b[0;32m    791\u001b[0m             \u001b[0mtrain_dmatrix\u001b[0m\u001b[1;33m,\u001b[0m\u001b[1;33m\u001b[0m\u001b[1;33m\u001b[0m\u001b[0m\n",
      "\u001b[1;32m~\\miniconda3\\lib\\site-packages\\xgboost\\training.py\u001b[0m in \u001b[0;36mtrain\u001b[1;34m(params, dtrain, num_boost_round, evals, obj, feval, maximize, early_stopping_rounds, evals_result, verbose_eval, xgb_model, callbacks)\u001b[0m\n\u001b[0;32m    186\u001b[0m     \u001b[0mBooster\u001b[0m \u001b[1;33m:\u001b[0m \u001b[0ma\u001b[0m \u001b[0mtrained\u001b[0m \u001b[0mbooster\u001b[0m \u001b[0mmodel\u001b[0m\u001b[1;33m\u001b[0m\u001b[1;33m\u001b[0m\u001b[0m\n\u001b[0;32m    187\u001b[0m     \"\"\"\n\u001b[1;32m--> 188\u001b[1;33m     bst = _train_internal(params, dtrain,\n\u001b[0m\u001b[0;32m    189\u001b[0m                           \u001b[0mnum_boost_round\u001b[0m\u001b[1;33m=\u001b[0m\u001b[0mnum_boost_round\u001b[0m\u001b[1;33m,\u001b[0m\u001b[1;33m\u001b[0m\u001b[1;33m\u001b[0m\u001b[0m\n\u001b[0;32m    190\u001b[0m                           \u001b[0mevals\u001b[0m\u001b[1;33m=\u001b[0m\u001b[0mevals\u001b[0m\u001b[1;33m,\u001b[0m\u001b[1;33m\u001b[0m\u001b[1;33m\u001b[0m\u001b[0m\n",
      "\u001b[1;32m~\\miniconda3\\lib\\site-packages\\xgboost\\training.py\u001b[0m in \u001b[0;36m_train_internal\u001b[1;34m(params, dtrain, num_boost_round, evals, obj, feval, xgb_model, callbacks, evals_result, maximize, verbose_eval, early_stopping_rounds)\u001b[0m\n\u001b[0;32m     79\u001b[0m         \u001b[1;32mif\u001b[0m \u001b[0mcallbacks\u001b[0m\u001b[1;33m.\u001b[0m\u001b[0mbefore_iteration\u001b[0m\u001b[1;33m(\u001b[0m\u001b[0mbst\u001b[0m\u001b[1;33m,\u001b[0m \u001b[0mi\u001b[0m\u001b[1;33m,\u001b[0m \u001b[0mdtrain\u001b[0m\u001b[1;33m,\u001b[0m \u001b[0mevals\u001b[0m\u001b[1;33m)\u001b[0m\u001b[1;33m:\u001b[0m\u001b[1;33m\u001b[0m\u001b[1;33m\u001b[0m\u001b[0m\n\u001b[0;32m     80\u001b[0m             \u001b[1;32mbreak\u001b[0m\u001b[1;33m\u001b[0m\u001b[1;33m\u001b[0m\u001b[0m\n\u001b[1;32m---> 81\u001b[1;33m         \u001b[0mbst\u001b[0m\u001b[1;33m.\u001b[0m\u001b[0mupdate\u001b[0m\u001b[1;33m(\u001b[0m\u001b[0mdtrain\u001b[0m\u001b[1;33m,\u001b[0m \u001b[0mi\u001b[0m\u001b[1;33m,\u001b[0m \u001b[0mobj\u001b[0m\u001b[1;33m)\u001b[0m\u001b[1;33m\u001b[0m\u001b[1;33m\u001b[0m\u001b[0m\n\u001b[0m\u001b[0;32m     82\u001b[0m         \u001b[1;32mif\u001b[0m \u001b[0mcallbacks\u001b[0m\u001b[1;33m.\u001b[0m\u001b[0mafter_iteration\u001b[0m\u001b[1;33m(\u001b[0m\u001b[0mbst\u001b[0m\u001b[1;33m,\u001b[0m \u001b[0mi\u001b[0m\u001b[1;33m,\u001b[0m \u001b[0mdtrain\u001b[0m\u001b[1;33m,\u001b[0m \u001b[0mevals\u001b[0m\u001b[1;33m)\u001b[0m\u001b[1;33m:\u001b[0m\u001b[1;33m\u001b[0m\u001b[1;33m\u001b[0m\u001b[0m\n\u001b[0;32m     83\u001b[0m             \u001b[1;32mbreak\u001b[0m\u001b[1;33m\u001b[0m\u001b[1;33m\u001b[0m\u001b[0m\n",
      "\u001b[1;32m~\\miniconda3\\lib\\site-packages\\xgboost\\core.py\u001b[0m in \u001b[0;36mupdate\u001b[1;34m(self, dtrain, iteration, fobj)\u001b[0m\n\u001b[0;32m   1678\u001b[0m \u001b[1;33m\u001b[0m\u001b[0m\n\u001b[0;32m   1679\u001b[0m         \u001b[1;32mif\u001b[0m \u001b[0mfobj\u001b[0m \u001b[1;32mis\u001b[0m \u001b[1;32mNone\u001b[0m\u001b[1;33m:\u001b[0m\u001b[1;33m\u001b[0m\u001b[1;33m\u001b[0m\u001b[0m\n\u001b[1;32m-> 1680\u001b[1;33m             _check_call(_LIB.XGBoosterUpdateOneIter(self.handle,\n\u001b[0m\u001b[0;32m   1681\u001b[0m                                                     \u001b[0mctypes\u001b[0m\u001b[1;33m.\u001b[0m\u001b[0mc_int\u001b[0m\u001b[1;33m(\u001b[0m\u001b[0miteration\u001b[0m\u001b[1;33m)\u001b[0m\u001b[1;33m,\u001b[0m\u001b[1;33m\u001b[0m\u001b[1;33m\u001b[0m\u001b[0m\n\u001b[0;32m   1682\u001b[0m                                                     dtrain.handle))\n",
      "\u001b[1;32m~\\miniconda3\\lib\\site-packages\\xgboost\\core.py\u001b[0m in \u001b[0;36m_check_call\u001b[1;34m(ret)\u001b[0m\n\u001b[0;32m    216\u001b[0m     \"\"\"\n\u001b[0;32m    217\u001b[0m     \u001b[1;32mif\u001b[0m \u001b[0mret\u001b[0m \u001b[1;33m!=\u001b[0m \u001b[1;36m0\u001b[0m\u001b[1;33m:\u001b[0m\u001b[1;33m\u001b[0m\u001b[1;33m\u001b[0m\u001b[0m\n\u001b[1;32m--> 218\u001b[1;33m         \u001b[1;32mraise\u001b[0m \u001b[0mXGBoostError\u001b[0m\u001b[1;33m(\u001b[0m\u001b[0mpy_str\u001b[0m\u001b[1;33m(\u001b[0m\u001b[0m_LIB\u001b[0m\u001b[1;33m.\u001b[0m\u001b[0mXGBGetLastError\u001b[0m\u001b[1;33m(\u001b[0m\u001b[1;33m)\u001b[0m\u001b[1;33m)\u001b[0m\u001b[1;33m)\u001b[0m\u001b[1;33m\u001b[0m\u001b[1;33m\u001b[0m\u001b[0m\n\u001b[0m\u001b[0;32m    219\u001b[0m \u001b[1;33m\u001b[0m\u001b[0m\n\u001b[0;32m    220\u001b[0m \u001b[1;33m\u001b[0m\u001b[0m\n",
      "\u001b[1;31mXGBoostError\u001b[0m: [20:17:05] d:\\bld\\xgboost-split_1637426510059\\work\\src\\common\\common.h:157: XGBoost version not compiled with GPU support."
     ]
    }
   ],
   "source": [
    "from xgboost.sklearn import XGBRegressor\n",
    "from sklearn.metrics import mean_pinball_loss, mean_squared_error\n",
    "\n",
    "num_quantiles = 100\n",
    "quantiles = np.arange(0, 1, 1/num_quantiles)[1:]\n",
    "#quantiles = [0.05, 0.5, 0.95]\n",
    "\n",
    "all_models = {}\n",
    "common_params = dict(\n",
    "    learning_rate=0.05,\n",
    "    n_estimators=600,\n",
    "    max_depth=7,\n",
    "    min_samples_leaf=9,\n",
    "    min_samples_split=9,\n",
    ")\n",
    "\n",
    "predictions = []\n",
    "for alpha in quantiles:\n",
    "    gbr = XGBRegressor(loss=\"quantile\", alpha=alpha, tree_method = \"gpu_hist\", **common_params)\n",
    "    model = gbr.fit(x_train, y_train)\n",
    "    y_pred = gbr.predict(x_test)\n",
    "\n",
    "    predictions.append(y_pred)\n",
    "predictions = np.array(predictions)"
   ]
  },
  {
   "cell_type": "code",
   "execution_count": 212,
   "id": "a219475d-2db5-4c90-82a6-6c2e26b135fa",
   "metadata": {
    "tags": []
   },
   "outputs": [],
   "source": [
    "sorted_predictions = np.sort(predictions, axis=0)\n",
    "\n",
    "results = []\n",
    "for i, q in enumerate(quantiles):\n",
    "    results.append(mean_pinball_loss(y_test, sorted_predictions[i], alpha=q))"
   ]
  },
  {
   "cell_type": "code",
   "execution_count": 213,
   "id": "cde07754-883a-4166-a951-c410ba77e2a8",
   "metadata": {},
   "outputs": [
    {
     "name": "stdout",
     "output_type": "stream",
     "text": [
      "Pinball loss of q=0.5 of MSE model 0.060053088896612164\n",
      "Pinball loss of q=0.5 of quantile model 0.059111495150399464\n"
     ]
    },
    {
     "data": {
      "image/png": "[encoded data removed]",
      "text/plain": [
       "<Figure size 432x288 with 1 Axes>"
      ]
     },
     "metadata": {
      "needs_background": "light"
     },
     "output_type": "display_data"
    }
   ],
   "source": [
    "import matplotlib.pyplot as plt\n",
    "\n",
    "plt.plot(quantiles, results)\n",
    "plt.ylabel('mean pinball loss')\n",
    "plt.xlabel('quantiles')\n",
    "plt.show()"
   ]
  },
  {
   "cell_type": "code",
   "execution_count": 214,
   "id": "0f14c655-6b1d-46b2-a0eb-269611d52835",
   "metadata": {},
   "outputs": [
    {
     "name": "stdout",
     "output_type": "stream",
     "text": [
      "The autoreload extension is already loaded. To reload it, use:\n",
      "  %reload_ext autoreload\n"
     ]
    }
   ],
   "source": [
    "%load_ext autoreload"
   ]
  },
  {
   "cell_type": "code",
   "execution_count": 215,
   "id": "56939815-7532-400b-ac9b-8d4c2cd09e59",
   "metadata": {},
   "outputs": [
    {
     "name": "stdout",
     "output_type": "stream",
     "text": [
      "Quantile sqore: 4.255362489838971\n"
     ]
    },
    {
     "data": {
      "image/png": "[encoded data removed]",
      "text/plain": [
       "<Figure size 432x288 with 1 Axes>"
      ]
     },
     "metadata": {
      "needs_background": "light"
     },
     "output_type": "display_data"
    }
   ],
   "source": [
    "%autoreload\n",
    "import metrics\n",
    "\n",
    "plf = metrics.plf_per_quantile(sorted_predictions, y_test)\n",
    "print(\"Quantile sqore:\", plf.mean())\n",
    "plt.plot(quantiles, plf)\n",
    "plt.ylabel('mean pinball loss')\n",
    "plt.xlabel('quantiles')\n",
    "plt.show()"
   ]
  },
  {
   "cell_type": "code",
   "execution_count": 216,
   "id": "8d384cfe-4546-4889-8903-fb2203430074",
   "metadata": {},
   "outputs": [
    {
     "data": {
      "text/plain": [
       "array([[0.02926372, 0.04026565, 0.05273805, ..., 0.        , 0.        ,\n",
       "        0.        ],\n",
       "       [0.06802182, 0.0566333 , 0.10611925, ..., 0.01583152, 0.02024023,\n",
       "        0.01597293],\n",
       "       [0.11813776, 0.06151804, 0.15465574, ..., 0.05088207, 0.06844088,\n",
       "        0.06078122],\n",
       "       ...,\n",
       "       [0.97329919, 0.94064683, 0.97018611, ..., 0.88640822, 0.9417984 ,\n",
       "        0.9102519 ],\n",
       "       [0.97896933, 0.96032084, 0.97098362, ..., 0.89993596, 0.94415401,\n",
       "        0.93614741],\n",
       "       [0.98185892, 0.97361542, 0.98372719, ..., 0.92952558, 0.95302706,\n",
       "        0.95052702]])"
      ]
     },
     "execution_count": 216,
     "metadata": {},
     "output_type": "execute_result"
    }
   ],
   "source": [
    "sorted_predictions[:,y_copy[y_copy['old_pos'].isin(wind_df[wind_df['new_date'] == dates.unique()[0]].index)]['pos']]"
   ]
  },
  {
   "cell_type": "code",
   "execution_count": 217,
   "id": "8f0efcd9-c08e-4f71-b989-35c095373071",
   "metadata": {},
   "outputs": [
    {
     "data": {
      "text/html": [
       "<div>\n",
       "<style scoped>\n",
       "    .dataframe tbody tr th:only-of-type {\n",
       "        vertical-align: middle;\n",
       "    }\n",
       "\n",
       "    .dataframe tbody tr th {\n",
       "        vertical-align: top;\n",
       "    }\n",
       "\n",
       "    .dataframe thead th {\n",
       "        text-align: right;\n",
       "    }\n",
       "</style>\n",
       "<table border=\"1\" class=\"dataframe\">\n",
       "  <thead>\n",
       "    <tr style=\"text-align: right;\">\n",
       "      <th></th>\n",
       "      <th>TARGETVAR</th>\n",
       "      <th>pos</th>\n",
       "    </tr>\n",
       "  </thead>\n",
       "  <tbody>\n",
       "    <tr>\n",
       "      <th>23</th>\n",
       "      <td>0.760455</td>\n",
       "      <td>0</td>\n",
       "    </tr>\n",
       "    <tr>\n",
       "      <th>24</th>\n",
       "      <td>0.439244</td>\n",
       "      <td>1</td>\n",
       "    </tr>\n",
       "    <tr>\n",
       "      <th>25</th>\n",
       "      <td>0.205808</td>\n",
       "      <td>2</td>\n",
       "    </tr>\n",
       "    <tr>\n",
       "      <th>26</th>\n",
       "      <td>0.190020</td>\n",
       "      <td>3</td>\n",
       "    </tr>\n",
       "    <tr>\n",
       "      <th>27</th>\n",
       "      <td>0.803496</td>\n",
       "      <td>4</td>\n",
       "    </tr>\n",
       "    <tr>\n",
       "      <th>...</th>\n",
       "      <td>...</td>\n",
       "      <td>...</td>\n",
       "    </tr>\n",
       "    <tr>\n",
       "      <th>175386</th>\n",
       "      <td>0.342493</td>\n",
       "      <td>11995</td>\n",
       "    </tr>\n",
       "    <tr>\n",
       "      <th>175387</th>\n",
       "      <td>0.285135</td>\n",
       "      <td>11996</td>\n",
       "    </tr>\n",
       "    <tr>\n",
       "      <th>175388</th>\n",
       "      <td>0.210316</td>\n",
       "      <td>11997</td>\n",
       "    </tr>\n",
       "    <tr>\n",
       "      <th>175389</th>\n",
       "      <td>0.135190</td>\n",
       "      <td>11998</td>\n",
       "    </tr>\n",
       "    <tr>\n",
       "      <th>175390</th>\n",
       "      <td>0.030001</td>\n",
       "      <td>11999</td>\n",
       "    </tr>\n",
       "  </tbody>\n",
       "</table>\n",
       "<p>12000 rows × 2 columns</p>\n",
       "</div>"
      ],
      "text/plain": [
       "        TARGETVAR    pos\n",
       "23       0.760455      0\n",
       "24       0.439244      1\n",
       "25       0.205808      2\n",
       "26       0.190020      3\n",
       "27       0.803496      4\n",
       "...           ...    ...\n",
       "175386   0.342493  11995\n",
       "175387   0.285135  11996\n",
       "175388   0.210316  11997\n",
       "175389   0.135190  11998\n",
       "175390   0.030001  11999\n",
       "\n",
       "[12000 rows x 2 columns]"
      ]
     },
     "execution_count": 217,
     "metadata": {},
     "output_type": "execute_result"
    }
   ],
   "source": [
    "y_copy = pd.DataFrame(y_test.copy())\n",
    "y_copy['pos'] = np.arange(y_test.shape[0])\n",
    "y_copy"
   ]
  },
  {
   "cell_type": "code",
   "execution_count": 218,
   "id": "e6d00bc9-7092-4b24-8b42-bfb8354c54c9",
   "metadata": {
    "tags": []
   },
   "outputs": [
    {
     "data": {
      "text/html": [
       "<div>\n",
       "<style scoped>\n",
       "    .dataframe tbody tr th:only-of-type {\n",
       "        vertical-align: middle;\n",
       "    }\n",
       "\n",
       "    .dataframe tbody tr th {\n",
       "        vertical-align: top;\n",
       "    }\n",
       "\n",
       "    .dataframe thead th {\n",
       "        text-align: right;\n",
       "    }\n",
       "</style>\n",
       "<table border=\"1\" class=\"dataframe\">\n",
       "  <thead>\n",
       "    <tr style=\"text-align: right;\">\n",
       "      <th></th>\n",
       "      <th>TARGETVAR</th>\n",
       "      <th>pos</th>\n",
       "      <th>old_pos</th>\n",
       "    </tr>\n",
       "  </thead>\n",
       "  <tbody>\n",
       "    <tr>\n",
       "      <th>23</th>\n",
       "      <td>0.760455</td>\n",
       "      <td>0</td>\n",
       "      <td>23</td>\n",
       "    </tr>\n",
       "    <tr>\n",
       "      <th>24</th>\n",
       "      <td>0.439244</td>\n",
       "      <td>1</td>\n",
       "      <td>24</td>\n",
       "    </tr>\n",
       "    <tr>\n",
       "      <th>25</th>\n",
       "      <td>0.205808</td>\n",
       "      <td>2</td>\n",
       "      <td>25</td>\n",
       "    </tr>\n",
       "    <tr>\n",
       "      <th>26</th>\n",
       "      <td>0.190020</td>\n",
       "      <td>3</td>\n",
       "      <td>26</td>\n",
       "    </tr>\n",
       "    <tr>\n",
       "      <th>27</th>\n",
       "      <td>0.803496</td>\n",
       "      <td>4</td>\n",
       "      <td>27</td>\n",
       "    </tr>\n",
       "    <tr>\n",
       "      <th>...</th>\n",
       "      <td>...</td>\n",
       "      <td>...</td>\n",
       "      <td>...</td>\n",
       "    </tr>\n",
       "    <tr>\n",
       "      <th>175386</th>\n",
       "      <td>0.342493</td>\n",
       "      <td>11995</td>\n",
       "      <td>175386</td>\n",
       "    </tr>\n",
       "    <tr>\n",
       "      <th>175387</th>\n",
       "      <td>0.285135</td>\n",
       "      <td>11996</td>\n",
       "      <td>175387</td>\n",
       "    </tr>\n",
       "    <tr>\n",
       "      <th>175388</th>\n",
       "      <td>0.210316</td>\n",
       "      <td>11997</td>\n",
       "      <td>175388</td>\n",
       "    </tr>\n",
       "    <tr>\n",
       "      <th>175389</th>\n",
       "      <td>0.135190</td>\n",
       "      <td>11998</td>\n",
       "      <td>175389</td>\n",
       "    </tr>\n",
       "    <tr>\n",
       "      <th>175390</th>\n",
       "      <td>0.030001</td>\n",
       "      <td>11999</td>\n",
       "      <td>175390</td>\n",
       "    </tr>\n",
       "  </tbody>\n",
       "</table>\n",
       "<p>12000 rows × 3 columns</p>\n",
       "</div>"
      ],
      "text/plain": [
       "        TARGETVAR    pos  old_pos\n",
       "23       0.760455      0       23\n",
       "24       0.439244      1       24\n",
       "25       0.205808      2       25\n",
       "26       0.190020      3       26\n",
       "27       0.803496      4       27\n",
       "...           ...    ...      ...\n",
       "175386   0.342493  11995   175386\n",
       "175387   0.285135  11996   175387\n",
       "175388   0.210316  11997   175388\n",
       "175389   0.135190  11998   175389\n",
       "175390   0.030001  11999   175390\n",
       "\n",
       "[12000 rows x 3 columns]"
      ]
     },
     "execution_count": 218,
     "metadata": {},
     "output_type": "execute_result"
    }
   ],
   "source": [
    "y_copy['old_pos'] = y_copy.index\n",
    "y_copy"
   ]
  },
  {
   "cell_type": "code",
   "execution_count": 276,
   "id": "6c9c9156-30f2-4c56-a1fe-37d4cb867f30",
   "metadata": {},
   "outputs": [
    {
     "data": {
      "image/png": "[encoded data removed]",
      "text/plain": [
       "<Figure size 432x288 with 1 Axes>"
      ]
     },
     "metadata": {
      "needs_background": "light"
     },
     "output_type": "display_data"
    }
   ],
   "source": [
    "import copula\n",
    "idx = np.arange(TEST_SIZE)\n",
    "np.random.shuffle(idx)\n",
    "ZONE = 'ZONE_6'\n",
    "cov_matrix = np.identity(24)\n",
    "\n",
    "for i in idx:\n",
    "    pred = pd.DataFrame(sorted_predictions[:,y_copy[y_copy['old_pos'].isin(wind_df[(wind_df['new_date'] == dates.unique()[i]) & (wind_df[ZONE] == 1)].index)]['pos']].T)\n",
    "    actual_data = y_copy[y_copy['old_pos'].isin(wind_df[(wind_df['new_date'] == dates.unique()[i]) & (wind_df[ZONE] == 1)].index)]['TARGETVAR']\n",
    "    cov_matrix = copula.update_cov_matrix(df_y_pred_q=pred, quantiles=quantiles, \n",
    "                      actual_data=actual_data, forget_factor=0.98, cov_matrix=cov_matrix)\n",
    "    \n",
    "plt.imshow(cov_matrix, cmap='jet', origin='lower')\n",
    "plt.xlabel('forecast horizon')\n",
    "plt.ylabel('forecast horizon')\n",
    "\n",
    "plt.show()"
   ]
  },
  {
   "cell_type": "code",
   "execution_count": 277,
   "id": "46320eaa-5c97-49b5-9278-ee98d77205ec",
   "metadata": {},
   "outputs": [
    {
     "data": {
      "image/png": "[encoded data removed]",
      "text/plain": [
       "<Figure size 432x288 with 1 Axes>"
      ]
     },
     "metadata": {
      "needs_background": "light"
     },
     "output_type": "display_data"
    }
   ],
   "source": [
    "N_SCENARIOS = 100\n",
    "\n",
    "pred = pd.DataFrame(sorted_predictions[:,y_copy[y_copy['old_pos'].isin(wind_df[(wind_df['new_date'] == dates.unique()[-1]) & (wind_df[ZONE] == 1)].index)]['pos']].T)\n",
    "actual_data = y_copy[y_copy['old_pos'].isin(wind_df[(wind_df['new_date'] == dates.unique()[-1]) & (wind_df[ZONE] == 1)].index)]['TARGETVAR']\n",
    "\n",
    "generated_scenarios = copula.sample_from_quantiles(df_y_pred_q=pred, quantiles=quantiles, cov_matrix=cov_matrix, n_scenarios=100, rnd_seed=[0], sort=True)\n",
    "plt.plot(generated_scenarios.values, color='k', alpha=0.25)\n",
    "plt.plot(generated_scenarios.values.mean(axis=1), color='cyan', label='Generated Scenarios Mean', linewidth=4)\n",
    "plt.plot(np.arange(24), actual_data, color='red', linewidth=4)\n",
    "plt.show()"
   ]
  },
  {
   "cell_type": "code",
   "execution_count": 278,
   "id": "49c79ee6-f43c-46dc-8387-bd5dfc3a1b35",
   "metadata": {},
   "outputs": [
    {
     "data": {
      "text/plain": [
       "1.6897850774500573"
      ]
     },
     "execution_count": 278,
     "metadata": {},
     "output_type": "execute_result"
    }
   ],
   "source": [
    "import dcor\n",
    "energy = dcor.energy_distance(generated_scenarios, actual_data)\n",
    "energy"
   ]
  },
  {
   "cell_type": "code",
   "execution_count": 279,
   "id": "b3dd5575-d75f-410f-ac27-e50bc02e5fc6",
   "metadata": {},
   "outputs": [],
   "source": [
    "y_to_pass = []\n",
    "scenarios_pred = []\n",
    "for i in range(TEST_SIZE):\n",
    "    pred = pd.DataFrame(sorted_predictions[:,y_copy[y_copy['old_pos'].isin(wind_df[(wind_df['new_date'] == dates.unique()[i]) & (wind_df[ZONE] == 1)].index)]['pos']].T)\n",
    "    actual_data = y_copy[y_copy['old_pos'].isin(wind_df[(wind_df['new_date'] == dates.unique()[i]) & (wind_df[ZONE] == 1)].index)]['TARGETVAR']\n",
    "    generated_scenarios = copula.sample_from_quantiles(df_y_pred_q=pred, quantiles=quantiles, cov_matrix=cov_matrix, n_scenarios=N_SCENARIOS, rnd_seed=[0], sort=True)\n",
    "    scenarios_pred.append(generated_scenarios)\n",
    "    y_to_pass.append(actual_data)\n"
   ]
  },
  {
   "cell_type": "code",
   "execution_count": 280,
   "id": "0a325efd-d1a9-46ce-9767-4ac0f3759920",
   "metadata": {},
   "outputs": [
    {
     "data": {
      "text/plain": [
       "(1200, 100)"
      ]
     },
     "execution_count": 280,
     "metadata": {},
     "output_type": "execute_result"
    }
   ],
   "source": [
    "y_to_pass = np.array(y_to_pass)\n",
    "\n",
    "scenarios_pred = np.array(scenarios_pred)\n",
    "scenarios_pred = scenarios_pred.reshape(-1, N_SCENARIOS)\n",
    "scenarios_pred.shape"
   ]
  },
  {
   "cell_type": "code",
   "execution_count": 281,
   "id": "4fae14a4-55db-4e94-ab4b-5eb3109a0ef7",
   "metadata": {},
   "outputs": [
    {
     "data": {
      "text/plain": [
       "59.48448709824618"
      ]
     },
     "execution_count": 281,
     "metadata": {},
     "output_type": "execute_result"
    }
   ],
   "source": [
    "%autoreload\n",
    "import metrics\n",
    "\n",
    "energy_scoring = metrics.energy_score(scenarios_pred, y_to_pass)\n",
    "np.array(energy_scoring).mean() * 100"
   ]
  },
  {
   "cell_type": "code",
   "execution_count": 247,
   "id": "dcd136f0-2e72-47dc-8412-a85620348b09",
   "metadata": {},
   "outputs": [
    {
     "data": {
      "text/plain": [
       "NoneType"
      ]
     },
     "execution_count": 247,
     "metadata": {},
     "output_type": "execute_result"
    }
   ],
   "source": [
    "type(energy_scoring)"
   ]
  },
  {
   "cell_type": "code",
   "execution_count": null,
   "id": "6f21d2ac-4915-4c63-9b81-8377b782ec0a",
   "metadata": {},
   "outputs": [],
   "source": []
  }
 ],
 "metadata": {
  "kernelspec": {
   "display_name": "Python 3 (ipykernel)",
   "language": "python",
   "name": "python3"
  },
  "language_info": {
   "codemirror_mode": {
    "name": "ipython",
    "version": 3
   },
   "file_extension": ".py",
   "mimetype": "text/x-python",
   "name": "python",
   "nbconvert_exporter": "python",
   "pygments_lexer": "ipython3",
   "version": "3.9.5"
  }
 },
 "nbformat": 4,
 "nbformat_minor": 5
}
