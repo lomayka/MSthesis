{
 "cells": [
  {
   "cell_type": "code",
   "execution_count": 12,
   "id": "58109948-408d-4c71-8f84-19db908381de",
   "metadata": {},
   "outputs": [],
   "source": [
    "from sklearn.preprocessing import StandardScaler\n",
    "from sklearn.model_selection import train_test_split\n",
    "\n",
    "def scale_data(X_train, X_test, X_val, y_train, y_test, y_val):\n",
    "    X_scaler = StandardScaler()\n",
    "    X_scaler.fit(X_train)\n",
    "    X_train_scaled = X_scaler.transform(X_train)\n",
    "    X_test_scaled = X_scaler.transform(X_test)\n",
    "    X_val_scaled = X_scaler.transform(X_val)\n",
    "    \n",
    "    y_scaler = StandardScaler()\n",
    "    y_scaler.fit(y_train)\n",
    "    y_train_scaled = y_scaler.transform(y_train)\n",
    "    y_test_scaled = y_scaler.transform(y_test)\n",
    "    y_val_scaled = y_scaler.transform(y_val)\n",
    "    \n",
    "    return X_train_scaled, X_test_scaled, X_val_scaled, y_train_scaled, y_test_scaled, y_val_scaled"
   ]
  },
  {
   "cell_type": "code",
   "execution_count": 27,
   "id": "d08cd28c-d14e-4b85-951c-689b80160da9",
   "metadata": {},
   "outputs": [],
   "source": [
    "import pandas as pd\n",
    "import numpy as np\n",
    "\n",
    "df_load = pd.read_csv(\"load_data_track1.csv\", parse_dates=True, index_col=0)\n",
    "# wind_df = pd.read_csv(\"wind_data_all_zone.csv\")\n",
    "# solar_df = pd.read_csv(\"solar_new.csv\")\n",
    "\n",
    "features = ['w1', 'w2', 'w3', 'w4', 'w5', 'w6', 'w 7', 'w8', 'w9', 'w10',\n",
    "            'w11', 'w12', 'w13', 'w14', 'w15', 'w16', 'w17', 'w18', 'w19', 'w20',\n",
    "            'w21', 'w22', 'w23', 'w24', 'w25']\n",
    "max_load = df_load['LOAD'].max()\n",
    "\n",
    "df_x = df_load[features]\n",
    "df_y = df_load['LOAD']/max_load"
   ]
  },
  {
   "cell_type": "code",
   "execution_count": 31,
   "id": "45094cae-568d-406e-aae9-95f7a604739f",
   "metadata": {},
   "outputs": [],
   "source": [
    "test_size = 0.25\n",
    "random_state = 0\n",
    "\n",
    "df_x_train, df_x_TEST, df_y_train, df_y_TEST = train_test_split(df_x, df_y, test_size=test_size,\n",
    "                                                                random_state=random_state, shuffle=True)"
   ]
  },
  {
   "cell_type": "code",
   "execution_count": 69,
   "id": "d53c54d5-15e8-44ab-811f-5eefea67cf98",
   "metadata": {},
   "outputs": [],
   "source": [
    "from sklearn.ensemble import GradientBoostingRegressor\n",
    "from sklearn.metrics import mean_pinball_loss, mean_squared_error\n",
    "\n",
    "num_quantiles = 10\n",
    "quantiles = np.arange(0, 1, 1/num_quantiles)[1:]\n",
    "#quantiles = [0.05, 0.5, 0.95]\n",
    "\n",
    "all_models = {}\n",
    "common_params = dict(\n",
    "    learning_rate=0.05,\n",
    "    n_estimators=200,\n",
    "    max_depth=4,\n",
    "    min_samples_leaf=9,\n",
    "    min_samples_split=9,\n",
    ")\n",
    "\n",
    "\n",
    "for alpha in quantiles:\n",
    "    gbr = GradientBoostingRegressor(loss=\"quantile\", alpha=alpha, **common_params)\n",
    "    all_models[\"q %1.2f\" % alpha] = gbr.fit(df_x_train, df_y_train)"
   ]
  },
  {
   "cell_type": "code",
   "execution_count": null,
   "id": "4b689eda-5033-4a2a-b424-18444336c128",
   "metadata": {
    "tags": []
   },
   "outputs": [],
   "source": [
    "gbr_ls = GradientBoostingRegressor(loss=\"squared_error\", **common_params)\n",
    "all_models[\"mse\"] = gbr_ls.fit(df_x_train, df_y_train)"
   ]
  },
  {
   "cell_type": "code",
   "execution_count": 75,
   "id": "a8f28a17-dfe9-42f5-94d4-59d0a746e9dc",
   "metadata": {},
   "outputs": [],
   "source": [
    "predictions = []\n",
    "for name, gbr in sorted(all_models.items()):\n",
    "    if name != \"mse\":\n",
    "        y_pred = gbr.predict(df_x_TEST)\n",
    "\n",
    "        predictions.append(y_pred)\n",
    "\n",
    "\n",
    "predictions = np.array(predictions)\n",
    "sorted_predictions = np.sort(predictions, axis=0)\n",
    "\n",
    "results = []\n",
    "for i, q in enumerate(quantiles):\n",
    "    results.append(mean_pinball_loss(df_y_TEST, sorted_predictions[i], alpha=q))"
   ]
  },
  {
   "cell_type": "code",
   "execution_count": 80,
   "id": "0c3bb6ae-dbe3-45fa-8726-03245e54c5b4",
   "metadata": {},
   "outputs": [
    {
     "name": "stdout",
     "output_type": "stream",
     "text": [
      "Pinball loss of q=0.5 of MSE model 0.02471066747667758\n",
      "Pinball loss of q=0.5 of quantile model 0.024892547923597824\n"
     ]
    },
    {
     "data": {
      "image/png": "[encoded data removed]",
      "text/plain": [
       "<Figure size 432x288 with 1 Axes>"
      ]
     },
     "metadata": {
      "needs_background": "light"
     },
     "output_type": "display_data"
    }
   ],
   "source": [
    "import matplotlib.pyplot as plt\n",
    "\n",
    "print(\"Pinball loss of q=0.5 of MSE model\", mean_pinball_loss(df_y_TEST, all_models[\"mse\"].predict(df_x_TEST), alpha=0.5))\n",
    "print(\"Pinball loss of q=0.5 of quantile model\", mean_pinball_loss(df_y_TEST, all_models[\"q 0.50\"].predict(df_x_TEST), alpha=0.5))\n",
    "plt.plot(quantiles, results)\n",
    "plt.ylabel('mean pinball loss')\n",
    "plt.xlabel('quantiles')\n",
    "plt.show()"
   ]
  },
  {
   "cell_type": "code",
   "execution_count": null,
   "id": "2bbeb4ab-eddf-409d-afda-11dfa7e3411d",
   "metadata": {},
   "outputs": [],
   "source": []
  }
 ],
 "metadata": {
  "kernelspec": {
   "display_name": "Python 3 (ipykernel)",
   "language": "python",
   "name": "python3"
  },
  "language_info": {
   "codemirror_mode": {
    "name": "ipython",
    "version": 3
   },
   "file_extension": ".py",
   "mimetype": "text/x-python",
   "name": "python",
   "nbconvert_exporter": "python",
   "pygments_lexer": "ipython3",
   "version": "3.9.5"
  }
 },
 "nbformat": 4,
 "nbformat_minor": 5
}
